{
 "cells": [
  {
   "cell_type": "code",
   "execution_count": 1,
   "metadata": {},
   "outputs": [],
   "source": [
    "import numpy as np"
   ]
  },
  {
   "cell_type": "code",
   "execution_count": 2,
   "metadata": {},
   "outputs": [],
   "source": [
    "def get_graph(text):\n",
    "    f = open(text)\n",
    "    info = []\n",
    "    while True:\n",
    "        line = f.readline()\n",
    "        if line == '':\n",
    "            break\n",
    "        else:\n",
    "            info.append(line)\n",
    "    f.close()\n",
    "    \n",
    "    total_nodes = int(info[0].split('-')[1])\n",
    "    start_node = int(info[1].split('-')[1])\n",
    "    end_node = int(info[2].split('-')[1])\n",
    "    \n",
    "    graph_info = info[3:]\n",
    "    \n",
    "    graph_dict = {}\n",
    "    for line in graph_info:\n",
    "        l = line.split(',')\n",
    "        nodes = l[0].split('-')\n",
    "        node_1 = int(nodes[0])\n",
    "        node_2 = int(nodes[1])\n",
    "        distance = int(l[1])\n",
    "        action = int(l[2])\n",
    "        if node_1 in graph_dict.keys():\n",
    "            graph_dict[node_1].append([distance, node_2,action])\n",
    "        else:\n",
    "            graph_dict[node_1] = []\n",
    "            graph_dict[node_1].append([distance, node_2,action])\n",
    "        if node_2 in graph_dict.keys():\n",
    "            graph_dict[node_2].append([distance, node_1, -action])\n",
    "        else:\n",
    "            graph_dict[node_2] = []\n",
    "            graph_dict[node_2].append([distance, node_1, -action])\n",
    "    assert total_nodes == len(graph_dict.keys()), 'Fuck! Something is wrong'\n",
    "    return start_node, end_node, graph_dict\n",
    "\n",
    "\n",
    "    \n",
    "    "
   ]
  },
  {
   "cell_type": "code",
   "execution_count": 3,
   "metadata": {},
   "outputs": [],
   "source": [
    "def djikstra(maze_dict,start,goal, verbose = False):\n",
    "\n",
    "\n",
    "    #maze_dict = graph_maze(maze)\n",
    "\n",
    "    #start_position = (start[0],start[1])\n",
    "    #goal_position = (goal[0],goal[1])\n",
    "\n",
    "\n",
    "    open_list = []\n",
    "    closed_list = []\n",
    "    backpointer = {}\n",
    "    path = []\n",
    "    found = False\n",
    "    resign = False\n",
    "\n",
    "    x = start\n",
    "    g = 0\n",
    "\n",
    "    open_list.append((g,x))\n",
    "    closed_list.append(x)\n",
    "    steps = 0\n",
    "\n",
    "\n",
    "    while not resign and not found:\n",
    "        if verbose:\n",
    "            print('Step {}'.format(steps))\n",
    "            print('Open list:')\n",
    "            print(open_list)\n",
    "            print('Closed list')\n",
    "            print(closed_list,end = '\\n\\n')\n",
    "        if len(open_list)==0:\n",
    "            print('It is impossible to solve this maze.')\n",
    "            resign = True\n",
    "        else:\n",
    "            open_list.sort()\n",
    "            current = open_list.pop(0)\n",
    "            x = current[1]\n",
    "            g = current[0]\n",
    "            if x==goal:\n",
    "                print('Goal reached in {} steps'.format(steps))\n",
    "                found = True\n",
    "                move_steps = 0\n",
    "                path.append(x)\n",
    "                while (x != start):\n",
    "                    x = backpointer[x]\n",
    "                    move_steps+=1\n",
    "                    path.append(x)\n",
    "                path.reverse()\n",
    "                for node in path:\n",
    "                    print('Node: {}'.format(node))\n",
    "                print('Total cost: {}'.format(g))\n",
    "\n",
    "            else:\n",
    "                for neighbour in maze_dict[x]:\n",
    "                    if neighbour[1] not in closed_list:\n",
    "                        x2 = neighbour[1]\n",
    "                        g2 = neighbour[0] + g\n",
    "                        backpointer[x2] = x\n",
    "                        open_list.append((g2,x2))\n",
    "                        closed_list.append(x2)\n",
    "        steps+=1\n",
    "    print('Total time steps: {}'.format(steps))\n",
    "    return path\n"
   ]
  },
  {
   "cell_type": "code",
   "execution_count": 4,
   "metadata": {},
   "outputs": [],
   "source": [
    "start, end, maze_dict = get_graph('graph.txt')"
   ]
  },
  {
   "cell_type": "code",
   "execution_count": 5,
   "metadata": {},
   "outputs": [
    {
     "data": {
      "text/plain": [
       "52"
      ]
     },
     "execution_count": 5,
     "metadata": {},
     "output_type": "execute_result"
    }
   ],
   "source": [
    "start"
   ]
  },
  {
   "cell_type": "code",
   "execution_count": 6,
   "metadata": {},
   "outputs": [
    {
     "data": {
      "text/plain": [
       "53"
      ]
     },
     "execution_count": 6,
     "metadata": {},
     "output_type": "execute_result"
    }
   ],
   "source": [
    "end"
   ]
  },
  {
   "cell_type": "code",
   "execution_count": 7,
   "metadata": {},
   "outputs": [
    {
     "data": {
      "text/plain": [
       "[[10, 51, 2]]"
      ]
     },
     "execution_count": 7,
     "metadata": {},
     "output_type": "execute_result"
    }
   ],
   "source": [
    "maze_dict[start]"
   ]
  },
  {
   "cell_type": "code",
   "execution_count": 8,
   "metadata": {},
   "outputs": [],
   "source": [
    "def get_pose(action, pose):\n",
    "    assert action in [1,-1,2,-2], \"Action non existent!\"\n",
    "    if action == 2:\n",
    "        pose = np.array([[0],[-1]])\n",
    "    elif action == 1:\n",
    "        pose = np.array([[1],[0]])\n",
    "    elif action == -1:\n",
    "        pose = np.array([[-1],[0]])\n",
    "    elif action == -2:\n",
    "        pose = np.array([[0,1]])\n",
    "    return pose\n",
    "def get_rotation_matrix(pose):\n",
    "    if (pose==np.array([[0],[1]])).all():\n",
    "        rot_matrix = np.eye(2)\n",
    "    elif (pose==np.array([[0],[-1]])).all():\n",
    "        rot_matrix = -np.eye(2)\n",
    "    elif (pose==np.array([[1],[0]])).all():\n",
    "        rot_matrix = np.array([[0,-1],[1,0]])\n",
    "    elif (pose==np.array([[-1],[0]])).all():\n",
    "        rot_matrix = -np.array([[0,-1],[1,0]])\n",
    "    return rot_matrix\n"
   ]
  },
  {
   "cell_type": "code",
   "execution_count": 9,
   "metadata": {},
   "outputs": [
    {
     "name": "stdout",
     "output_type": "stream",
     "text": [
      "Goal reached in 41 steps\n",
      "Node: 52\n",
      "Node: 51\n",
      "Node: 48\n",
      "Node: 46\n",
      "Node: 17\n",
      "Node: 14\n",
      "Node: 44\n",
      "Node: 43\n",
      "Node: 12\n",
      "Node: 7\n",
      "Node: 42\n",
      "Node: 53\n",
      "Total cost: 192\n",
      "Total time steps: 42\n"
     ]
    }
   ],
   "source": [
    "path = djikstra(maze_dict,start,end)"
   ]
  },
  {
   "cell_type": "code",
   "execution_count": 156,
   "metadata": {},
   "outputs": [
    {
     "data": {
      "text/plain": [
       "52"
      ]
     },
     "execution_count": 156,
     "metadata": {},
     "output_type": "execute_result"
    }
   ],
   "source": [
    "start"
   ]
  },
  {
   "cell_type": "code",
   "execution_count": 157,
   "metadata": {},
   "outputs": [
    {
     "data": {
      "text/plain": [
       "[[10, 51, 2]]"
      ]
     },
     "execution_count": 157,
     "metadata": {},
     "output_type": "execute_result"
    }
   ],
   "source": [
    "maze_dict[start]"
   ]
  },
  {
   "cell_type": "code",
   "execution_count": 10,
   "metadata": {},
   "outputs": [],
   "source": [
    "def calculate_actions(current_position, pose, path):\n",
    "    actions = []\n",
    "\n",
    "    actions_matrice = np.array([[0,-2,0],[-1,0,1],[0,2,0]])\n",
    "    for position in path:\n",
    "        for i  in maze_dict[current_position]:\n",
    "            print(i)\n",
    "            if i[1]==position:\n",
    "                action = i[2]\n",
    "                assert action in [-1,1,-2,2]\n",
    "        print(action)\n",
    "        indexes = np.where(actions_matrice==action)\n",
    "        print(indexes, type(indexes))\n",
    "        indexes_np = np.array(indexes)\n",
    "        print(pose, type(pose), pose.shape)\n",
    "        indexes_np = indexes_np-1\n",
    "        rot_matrix = get_rotation_matrix(pose)\n",
    "        new_indexes = np.matmul(rot_matrix,indexes_np)\n",
    "        new_indexes+=1\n",
    "        print(new_indexes)\n",
    "        new_action = actions_matrice[tuple(new_indexes.astype(int))]\n",
    "        actions.append(new_action)\n",
    "        print('new_action',new_action)\n",
    "        pose = get_pose(action, pose)\n",
    "        print('new_pose', pose)\n",
    "        current_position  = position\n",
    "    \n",
    "    return actions\n",
    "        \n",
    "        \n",
    "\n",
    "\n",
    "\n",
    "\n",
    "        "
   ]
  },
  {
   "cell_type": "code",
   "execution_count": 11,
   "metadata": {},
   "outputs": [
    {
     "data": {
      "text/plain": [
       "[52, 51, 48, 46, 17, 14, 44, 43, 12, 7, 42, 53]"
      ]
     },
     "execution_count": 11,
     "metadata": {},
     "output_type": "execute_result"
    }
   ],
   "source": [
    "path"
   ]
  },
  {
   "cell_type": "code",
   "execution_count": 12,
   "metadata": {},
   "outputs": [],
   "source": [
    "start = path.pop(0)\n",
    "init_pose = np.array([[0],[-1]])"
   ]
  },
  {
   "cell_type": "code",
   "execution_count": 13,
   "metadata": {},
   "outputs": [
    {
     "name": "stdout",
     "output_type": "stream",
     "text": [
      "[10, 51, 2]\n",
      "2\n",
      "(array([2]), array([1])) <class 'tuple'>\n",
      "[[ 0]\n",
      " [-1]] <class 'numpy.ndarray'> (2, 1)\n",
      "[[0.]\n",
      " [1.]]\n",
      "new_action [-2]\n",
      "new_pose [[ 0]\n",
      " [-1]]\n",
      "[12, 27, 1]\n",
      "[29, 28, -1]\n",
      "[28, 48, 2]\n",
      "[10, 52, -2]\n",
      "2\n",
      "(array([2]), array([1])) <class 'tuple'>\n",
      "[[ 0]\n",
      " [-1]] <class 'numpy.ndarray'> (2, 1)\n",
      "[[0.]\n",
      " [1.]]\n",
      "new_action [-2]\n",
      "new_pose [[ 0]\n",
      " [-1]]\n",
      "[12, 23, -1]\n",
      "[14, 46, 2]\n",
      "[28, 51, -2]\n",
      "2\n",
      "(array([2]), array([1])) <class 'tuple'>\n",
      "[[ 0]\n",
      " [-1]] <class 'numpy.ndarray'> (2, 1)\n",
      "[[0.]\n",
      " [1.]]\n",
      "new_action [-2]\n",
      "new_pose [[ 0]\n",
      " [-1]]\n",
      "[12, 17, 2]\n",
      "[12, 20, 1]\n",
      "[16, 35, -1]\n",
      "[14, 48, -2]\n",
      "2\n",
      "(array([2]), array([1])) <class 'tuple'>\n",
      "[[ 0]\n",
      " [-1]] <class 'numpy.ndarray'> (2, 1)\n",
      "[[0.]\n",
      " [1.]]\n",
      "new_action [-2]\n",
      "new_pose [[ 0]\n",
      " [-1]]\n",
      "[13, 14, -1]\n",
      "[12, 46, -2]\n",
      "-1\n",
      "(array([1]), array([0])) <class 'tuple'>\n",
      "[[ 0]\n",
      " [-1]] <class 'numpy.ndarray'> (2, 1)\n",
      "[[1.]\n",
      " [2.]]\n",
      "new_action [1]\n",
      "new_pose [[-1]\n",
      " [ 0]]\n",
      "[13, 17, 1]\n",
      "[15, 44, 2]\n",
      "2\n",
      "(array([2]), array([1])) <class 'tuple'>\n",
      "[[-1]\n",
      " [ 0]] <class 'numpy.ndarray'> (2, 1)\n",
      "[[1]\n",
      " [0]]\n",
      "new_action [-1]\n",
      "new_pose [[ 0]\n",
      " [-1]]\n",
      "[26, 5, 2]\n",
      "[15, 14, -2]\n",
      "[25, 43, 1]\n",
      "[14, 45, -1]\n",
      "1\n",
      "(array([1]), array([2])) <class 'tuple'>\n",
      "[[ 0]\n",
      " [-1]] <class 'numpy.ndarray'> (2, 1)\n",
      "[[1.]\n",
      " [0.]]\n",
      "new_action [-1]\n",
      "new_pose [[1]\n",
      " [0]]\n",
      "[12, 12, 2]\n",
      "[15, 13, -2]\n",
      "[25, 44, -1]\n",
      "2\n",
      "(array([2]), array([1])) <class 'tuple'>\n",
      "[[1]\n",
      " [0]] <class 'numpy.ndarray'> (2, 1)\n",
      "[[1]\n",
      " [2]]\n",
      "new_action [1]\n",
      "new_pose [[ 0]\n",
      " [-1]]\n",
      "[13, 7, -1]\n",
      "[12, 43, -2]\n",
      "-1\n",
      "(array([1]), array([0])) <class 'tuple'>\n",
      "[[ 0]\n",
      " [-1]] <class 'numpy.ndarray'> (2, 1)\n",
      "[[1.]\n",
      " [2.]]\n",
      "new_action [1]\n",
      "new_pose [[-1]\n",
      " [ 0]]\n",
      "[13, 12, 1]\n",
      "[29, 42, 2]\n",
      "2\n",
      "(array([2]), array([1])) <class 'tuple'>\n",
      "[[-1]\n",
      " [ 0]] <class 'numpy.ndarray'> (2, 1)\n",
      "[[1]\n",
      " [0]]\n",
      "new_action [-1]\n",
      "new_pose [[ 0]\n",
      " [-1]]\n",
      "[29, 7, -2]\n",
      "[28, 41, 1]\n",
      "[21, 53, 2]\n",
      "2\n",
      "(array([2]), array([1])) <class 'tuple'>\n",
      "[[ 0]\n",
      " [-1]] <class 'numpy.ndarray'> (2, 1)\n",
      "[[0.]\n",
      " [1.]]\n",
      "new_action [-2]\n",
      "new_pose [[ 0]\n",
      " [-1]]\n"
     ]
    },
    {
     "data": {
      "text/plain": [
       "[array([-2]),\n",
       " array([-2]),\n",
       " array([-2]),\n",
       " array([-2]),\n",
       " array([1]),\n",
       " array([-1]),\n",
       " array([-1]),\n",
       " array([1]),\n",
       " array([1]),\n",
       " array([-1]),\n",
       " array([-2])]"
      ]
     },
     "execution_count": 13,
     "metadata": {},
     "output_type": "execute_result"
    }
   ],
   "source": [
    "calculate_actions(start, init_pose, path)"
   ]
  },
  {
   "cell_type": "code",
   "execution_count": 175,
   "metadata": {},
   "outputs": [
    {
     "data": {
      "text/plain": [
       "[[29, 54, 2], [12, 58, -1]]"
      ]
     },
     "execution_count": 175,
     "metadata": {},
     "output_type": "execute_result"
    }
   ],
   "source": [
    "graph_dict[7]"
   ]
  },
  {
   "cell_type": "code",
   "execution_count": 52,
   "metadata": {},
   "outputs": [
    {
     "data": {
      "text/plain": [
       "array([0, 3, 4, 5])"
      ]
     },
     "execution_count": 52,
     "metadata": {},
     "output_type": "execute_result"
    }
   ],
   "source": [
    "np.array([0.,3,4,5]).astype(int)"
   ]
  },
  {
   "cell_type": "code",
   "execution_count": null,
   "metadata": {},
   "outputs": [],
   "source": []
  }
 ],
 "metadata": {
  "kernelspec": {
   "display_name": "Python 3",
   "language": "python",
   "name": "python3"
  },
  "language_info": {
   "codemirror_mode": {
    "name": "ipython",
    "version": 3
   },
   "file_extension": ".py",
   "mimetype": "text/x-python",
   "name": "python",
   "nbconvert_exporter": "python",
   "pygments_lexer": "ipython3",
   "version": "3.7.2"
  }
 },
 "nbformat": 4,
 "nbformat_minor": 2
}
